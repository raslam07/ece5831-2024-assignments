{
 "cells": [
  {
   "cell_type": "markdown",
   "metadata": {},
   "source": [
    "Importing the libraries"
   ]
  },
  {
   "cell_type": "code",
   "execution_count": 4,
   "metadata": {},
   "outputs": [
    {
     "name": "stderr",
     "output_type": "stream",
     "text": [
      "c:\\Users\\Mukul\\anaconda3\\envs\\teachable\\Lib\\site-packages\\tensorflow_addons\\utils\\tfa_eol_msg.py:23: UserWarning: \n",
      "\n",
      "TensorFlow Addons (TFA) has ended development and introduction of new features.\n",
      "TFA has entered a minimal maintenance and release mode until a planned end of life in May 2024.\n",
      "Please modify downstream libraries to take dependencies from other repositories in our TensorFlow community (e.g. Keras, Keras-CV, and Keras-NLP). \n",
      "\n",
      "For more information see: https://github.com/tensorflow/addons/issues/2807 \n",
      "\n",
      "  warnings.warn(\n"
     ]
    }
   ],
   "source": [
    "\n",
    "import os\n",
    "import numpy as np\n",
    "import pandas as pd\n",
    "from PIL import Image\n",
    "from sklearn.model_selection import train_test_split\n",
    "import tensorflow as tf\n",
    "from tensorflow import keras\n",
    "from keras.models import Sequential\n",
    "from keras.layers import Conv2D, Dense, Flatten, Dropout, BatchNormalization, MaxPooling2D\n",
    "from keras.optimizers import Adam, RMSprop, SGD\n",
    "import matplotlib.pyplot as plt\n",
    "from tqdm import tqdm\n",
    "import keras_tuner as kt\n",
    "import tensorflow_addons as tfa\n"
   ]
  },
  {
   "cell_type": "markdown",
   "metadata": {},
   "source": [
    "Loading data"
   ]
  },
  {
   "cell_type": "code",
   "execution_count": 6,
   "metadata": {},
   "outputs": [],
   "source": [
    "def load_data(data_file, image_dir):\n",
    "    data = pd.read_csv(data_file, delimiter=' ', header=None, names=['image', 'angle'])\n",
    "    data['image'] = data['image'].apply(lambda x: f\"{image_dir}/{x}\")\n",
    "    return data\n"
   ]
  },
  {
   "cell_type": "markdown",
   "metadata": {},
   "source": [
    "Data Processing"
   ]
  },
  {
   "cell_type": "markdown",
   "metadata": {},
   "source": [
    "Image Preprocessing"
   ]
  },
  {
   "cell_type": "code",
   "execution_count": 5,
   "metadata": {},
   "outputs": [],
   "source": [
    "def preprocess_image(image_path):\n",
    "    img = Image.open(image_path)\n",
    "    img = img.resize((200, 66))\n",
    "    return np.array(img) / 255.0"
   ]
  },
  {
   "cell_type": "markdown",
   "metadata": {},
   "source": [
    "Data Augmentation"
   ]
  },
  {
   "cell_type": "code",
   "execution_count": 6,
   "metadata": {},
   "outputs": [],
   "source": [
    "@tf.function\n",
    "def augment_image(image, angle):\n",
    "    image = tf.image.random_brightness(image, max_delta=0.2)\n",
    "    image = tf.image.random_contrast(image, lower=0.8, upper=1.2)\n",
    "    image = tf.image.random_saturation(image, lower=0.8, upper=1.2)\n",
    "    image = tf.image.random_hue(image, max_delta=0.1)\n",
    "    \n",
    "    if tf.random.uniform(()) > 0.5:\n",
    "        image = tf.image.flip_left_right(image)\n",
    "        angle = -angle\n",
    "    \n",
    "    angle_rad = tf.random.uniform((), minval=-0.2, maxval=0.2)\n",
    "    image = tfa.image.rotate(image, angle_rad)\n",
    "    \n",
    "    zoom = tf.random.uniform((), minval=0.9, maxval=1.1)\n",
    "    image = tf.image.resize(image, tf.cast(tf.cast(tf.shape(image)[:2], tf.float32) * zoom, tf.int32))\n",
    "    image = tf.image.resize_with_crop_or_pad(image, 66, 200)\n",
    "    \n",
    "    return image, angle"
   ]
  },
  {
   "cell_type": "code",
   "execution_count": 9,
   "metadata": {},
   "outputs": [],
   "source": [
    "import tensorflow as tf\n",
    "from tensorflow import keras\n",
    "import keras_tuner as kt"
   ]
  },
  {
   "cell_type": "markdown",
   "metadata": {},
   "source": [
    "Model Architecture"
   ]
  },
  {
   "cell_type": "code",
   "execution_count": 10,
   "metadata": {},
   "outputs": [],
   "source": [
    "def build_model(hp):\n",
    "    model = keras.Sequential()\n",
    "    \n",
    "    # Ensure input_shape is specified for the first Conv2D layer\n",
    "    model.add(keras.layers.Conv2D(\n",
    "        filters=hp.Int('conv1_filters', min_value=16, max_value=64, step=16),\n",
    "        kernel_size=hp.Choice('conv1_kernel', values=[3, 5]),\n",
    "        activation='relu',\n",
    "        input_shape=(66, 200, 3)  # Specify input shape here\n",
    "    ))\n",
    "    model.add(keras.layers.BatchNormalization())\n",
    "    model.add(keras.layers.MaxPooling2D((2, 2)))\n",
    "    \n",
    "    # Add additional layers as needed\n",
    "    for i in range(hp.Int('num_conv_layers', 1, 3)):\n",
    "        model.add(keras.layers.Conv2D(\n",
    "            filters=hp.Int(f'conv_{i+2}_filters', min_value=32, max_value=128, step=32),\n",
    "            kernel_size=hp.Choice(f'conv_{i+2}_kernel', values=[3, 5]),\n",
    "            activation='relu'\n",
    "        ))\n",
    "        model.add(keras.layers.BatchNormalization())\n",
    "        model.add(keras.layers.MaxPooling2D((2, 2)))\n",
    "    \n",
    "    model.add(keras.layers.Flatten())\n",
    "    \n",
    "    # Dense layers\n",
    "    for i in range(hp.Int('num_dense_layers', 1, 3)):\n",
    "        model.add(keras.layers.Dense(\n",
    "            units=hp.Int(f'dense_{i}_units', min_value=64, max_value=256, step=64),\n",
    "            activation='relu'\n",
    "        ))\n",
    "        model.add(keras.layers.Dropout(rate=hp.Float(f'dropout_{i}', min_value=0.0, max_value=0.5, step=0.1)))\n",
    "    \n",
    "    model.add(keras.layers.Dense(1))\n",
    "    \n",
    "    optimizer = hp.Choice('optimizer', values=['adam', 'rmsprop', 'sgd'])\n",
    "    if optimizer == 'adam':\n",
    "        opt = keras.optimizers.Adam(hp.Float('learning_rate', 1e-4, 1e-2, sampling='log'))\n",
    "    elif optimizer == 'rmsprop':\n",
    "        opt = keras.optimizers.RMSprop(hp.Float('learning_rate', 1e-4, 1e-2, sampling='log'))\n",
    "    else:\n",
    "        opt = keras.optimizers.SGD(hp.Float('learning_rate', 1e-4, 1e-2, sampling='log'))\n",
    "    \n",
    "    model.compile(\n",
    "        optimizer=opt,\n",
    "        loss=keras.losses.Huber(),\n",
    "        metrics=['mae']\n",
    "    )\n",
    "    \n",
    "    return model"
   ]
  },
  {
   "cell_type": "markdown",
   "metadata": {},
   "source": [
    "Defining the data file and image directory"
   ]
  },
  {
   "cell_type": "code",
   "execution_count": 11,
   "metadata": {},
   "outputs": [],
   "source": [
    "data_file = \"data.txt\"\n",
    "image_dir = \"driving_dataset\""
   ]
  },
  {
   "cell_type": "markdown",
   "metadata": {},
   "source": [
    "Data preprocessing"
   ]
  },
  {
   "cell_type": "code",
   "execution_count": 12,
   "metadata": {},
   "outputs": [
    {
     "name": "stderr",
     "output_type": "stream",
     "text": [
      "Preprocessing images: 100%|██████████| 45406/45406 [04:06<00:00, 184.32it/s]\n"
     ]
    }
   ],
   "source": [
    "data = load_data(data_file, image_dir)\n",
    "X = np.array([preprocess_image(img_path) for img_path in tqdm(data['image'], desc=\"Preprocessing images\")])\n",
    "y = data['angle'].values\n",
    "X_train, X_test, y_train, y_test = train_test_split(X, y, test_size=0.2, random_state=42)"
   ]
  },
  {
   "cell_type": "code",
   "execution_count": 13,
   "metadata": {},
   "outputs": [],
   "source": [
    "train_dataset = tf.data.Dataset.from_tensor_slices((X_train, y_train))\n",
    "train_dataset = train_dataset.map(augment_image, num_parallel_calls=tf.data.AUTOTUNE)\n",
    "train_dataset = train_dataset.batch(32).prefetch(tf.data.AUTOTUNE)\n",
    "\n",
    "test_dataset = tf.data.Dataset.from_tensor_slices((X_test, y_test))\n",
    "test_dataset = test_dataset.batch(32).prefetch(tf.data.AUTOTUNE)"
   ]
  },
  {
   "cell_type": "markdown",
   "metadata": {},
   "source": [
    "Tuning the hyperparameters, defining callback"
   ]
  },
  {
   "cell_type": "code",
   "execution_count": 15,
   "metadata": {},
   "outputs": [],
   "source": [
    "import time\n",
    "import keras_tuner as kt\n",
    "import tensorflow as tf\n",
    "\n",
    "class TimeLimitCallback(tf.keras.callbacks.Callback):\n",
    "    def __init__(self, time_limit, tuner):\n",
    "        super().__init__()\n",
    "        self.time_limit = time_limit\n",
    "        self.start_time = time.time()\n",
    "        self.tuner = tuner\n",
    "\n",
    "    def on_epoch_begin(self, epoch, logs=None):\n",
    "        if time.time() - self.start_time > self.time_limit:\n",
    "            self.tuner.oracle.end_study(status=\"TIME_LIMIT_REACHED\")\n",
    "            print(\"Time limit reached. Stopping hyperparameter search.\")\n",
    "            self.model.stop_training = True"
   ]
  },
  {
   "cell_type": "markdown",
   "metadata": {},
   "source": [
    "Keras Tuner, it shows an error because we stopped it at trial 24 using timer callback"
   ]
  },
  {
   "cell_type": "code",
   "execution_count": 16,
   "metadata": {},
   "outputs": [
    {
     "name": "stdout",
     "output_type": "stream",
     "text": [
      "Trial 24 Complete [00h 00m 02s]\n",
      "\n",
      "Best val_mae So Far: 9.123581886291504\n",
      "Total elapsed time: 5d 00h 57m 30s\n",
      "\n",
      "Search: Running Trial #25\n",
      "\n",
      "Value             |Best Value So Far |Hyperparameter\n",
      "64                |64                |conv1_filters\n",
      "5                 |5                 |conv1_kernel\n",
      "3                 |2                 |num_conv_layers\n",
      "96                |32                |conv_2_filters\n",
      "5                 |3                 |conv_2_kernel\n",
      "1                 |2                 |num_dense_layers\n",
      "256               |192               |dense_0_units\n",
      "0.2               |0.1               |dropout_0\n",
      "rmsprop           |adam              |optimizer\n",
      "0.0011567         |0.00044418        |learning_rate\n",
      "64                |64                |conv_3_filters\n",
      "5                 |3                 |conv_3_kernel\n",
      "96                |32                |conv_4_filters\n",
      "3                 |5                 |conv_4_kernel\n",
      "128               |192               |dense_1_units\n",
      "0                 |0.1               |dropout_1\n",
      "192               |256               |dense_2_units\n",
      "0.2               |0.2               |dropout_2\n",
      "2                 |2                 |tuner/epochs\n",
      "0                 |0                 |tuner/initial_epoch\n",
      "3                 |3                 |tuner/bracket\n",
      "0                 |0                 |tuner/round\n",
      "\n"
     ]
    },
    {
     "name": "stderr",
     "output_type": "stream",
     "text": [
      "Traceback (most recent call last):\n",
      "  File \"c:\\Users\\Mukul\\anaconda3\\envs\\teachable\\Lib\\site-packages\\keras_tuner\\src\\engine\\base_tuner.py\", line 274, in _try_run_and_update_trial\n",
      "    self._run_and_update_trial(trial, *fit_args, **fit_kwargs)\n",
      "  File \"c:\\Users\\Mukul\\anaconda3\\envs\\teachable\\Lib\\site-packages\\keras_tuner\\src\\engine\\base_tuner.py\", line 239, in _run_and_update_trial\n",
      "    results = self.run_trial(trial, *fit_args, **fit_kwargs)\n",
      "              ^^^^^^^^^^^^^^^^^^^^^^^^^^^^^^^^^^^^^^^^^^^^^^\n",
      "  File \"c:\\Users\\Mukul\\anaconda3\\envs\\teachable\\Lib\\site-packages\\keras_tuner\\src\\tuners\\hyperband.py\", line 427, in run_trial\n",
      "    return super().run_trial(trial, *fit_args, **fit_kwargs)\n",
      "           ^^^^^^^^^^^^^^^^^^^^^^^^^^^^^^^^^^^^^^^^^^^^^^^^^\n",
      "  File \"c:\\Users\\Mukul\\anaconda3\\envs\\teachable\\Lib\\site-packages\\keras_tuner\\src\\engine\\tuner.py\", line 314, in run_trial\n",
      "    obj_value = self._build_and_fit_model(trial, *args, **copied_kwargs)\n",
      "                ^^^^^^^^^^^^^^^^^^^^^^^^^^^^^^^^^^^^^^^^^^^^^^^^^^^^^^^^\n",
      "  File \"c:\\Users\\Mukul\\anaconda3\\envs\\teachable\\Lib\\site-packages\\keras_tuner\\src\\engine\\tuner.py\", line 233, in _build_and_fit_model\n",
      "    results = self.hypermodel.fit(hp, model, *args, **kwargs)\n",
      "              ^^^^^^^^^^^^^^^^^^^^^^^^^^^^^^^^^^^^^^^^^^^^^^^\n",
      "  File \"c:\\Users\\Mukul\\anaconda3\\envs\\teachable\\Lib\\site-packages\\keras_tuner\\src\\engine\\hypermodel.py\", line 149, in fit\n",
      "    return model.fit(*args, **kwargs)\n",
      "           ^^^^^^^^^^^^^^^^^^^^^^^^^^\n",
      "  File \"c:\\Users\\Mukul\\anaconda3\\envs\\teachable\\Lib\\site-packages\\keras\\utils\\traceback_utils.py\", line 70, in error_handler\n",
      "    raise e.with_traceback(filtered_tb) from None\n",
      "  File \"C:\\Users\\Mukul\\AppData\\Local\\Temp\\ipykernel_11372\\3121170498.py\", line 14, in on_epoch_begin\n",
      "    self.tuner.oracle.end_study(status=\"TIME_LIMIT_REACHED\")\n",
      "    ^^^^^^^^^^^^^^^^^^^^^^^^^^^\n",
      "AttributeError: 'HyperbandOracle' object has no attribute 'end_study'\n"
     ]
    },
    {
     "ename": "RuntimeError",
     "evalue": "Number of consecutive failures exceeded the limit of 3.\nTraceback (most recent call last):\n  File \"c:\\Users\\Mukul\\anaconda3\\envs\\teachable\\Lib\\site-packages\\keras_tuner\\src\\engine\\base_tuner.py\", line 274, in _try_run_and_update_trial\n    self._run_and_update_trial(trial, *fit_args, **fit_kwargs)\n  File \"c:\\Users\\Mukul\\anaconda3\\envs\\teachable\\Lib\\site-packages\\keras_tuner\\src\\engine\\base_tuner.py\", line 239, in _run_and_update_trial\n    results = self.run_trial(trial, *fit_args, **fit_kwargs)\n              ^^^^^^^^^^^^^^^^^^^^^^^^^^^^^^^^^^^^^^^^^^^^^^\n  File \"c:\\Users\\Mukul\\anaconda3\\envs\\teachable\\Lib\\site-packages\\keras_tuner\\src\\tuners\\hyperband.py\", line 427, in run_trial\n    return super().run_trial(trial, *fit_args, **fit_kwargs)\n           ^^^^^^^^^^^^^^^^^^^^^^^^^^^^^^^^^^^^^^^^^^^^^^^^^\n  File \"c:\\Users\\Mukul\\anaconda3\\envs\\teachable\\Lib\\site-packages\\keras_tuner\\src\\engine\\tuner.py\", line 314, in run_trial\n    obj_value = self._build_and_fit_model(trial, *args, **copied_kwargs)\n                ^^^^^^^^^^^^^^^^^^^^^^^^^^^^^^^^^^^^^^^^^^^^^^^^^^^^^^^^\n  File \"c:\\Users\\Mukul\\anaconda3\\envs\\teachable\\Lib\\site-packages\\keras_tuner\\src\\engine\\tuner.py\", line 233, in _build_and_fit_model\n    results = self.hypermodel.fit(hp, model, *args, **kwargs)\n              ^^^^^^^^^^^^^^^^^^^^^^^^^^^^^^^^^^^^^^^^^^^^^^^\n  File \"c:\\Users\\Mukul\\anaconda3\\envs\\teachable\\Lib\\site-packages\\keras_tuner\\src\\engine\\hypermodel.py\", line 149, in fit\n    return model.fit(*args, **kwargs)\n           ^^^^^^^^^^^^^^^^^^^^^^^^^^\n  File \"c:\\Users\\Mukul\\anaconda3\\envs\\teachable\\Lib\\site-packages\\keras\\utils\\traceback_utils.py\", line 70, in error_handler\n    raise e.with_traceback(filtered_tb) from None\n  File \"C:\\Users\\Mukul\\AppData\\Local\\Temp\\ipykernel_11372\\3121170498.py\", line 14, in on_epoch_begin\n    self.tuner.oracle.end_study(status=\"TIME_LIMIT_REACHED\")\n    ^^^^^^^^^^^^^^^^^^^^^^^^^^^\nAttributeError: 'HyperbandOracle' object has no attribute 'end_study'\n",
     "output_type": "error",
     "traceback": [
      "\u001b[1;31m---------------------------------------------------------------------------\u001b[0m",
      "\u001b[1;31mRuntimeError\u001b[0m                              Traceback (most recent call last)",
      "Cell \u001b[1;32mIn[16], line 13\u001b[0m\n\u001b[0;32m     10\u001b[0m stop_early \u001b[38;5;241m=\u001b[39m tf\u001b[38;5;241m.\u001b[39mkeras\u001b[38;5;241m.\u001b[39mcallbacks\u001b[38;5;241m.\u001b[39mEarlyStopping(monitor\u001b[38;5;241m=\u001b[39m\u001b[38;5;124m'\u001b[39m\u001b[38;5;124mval_loss\u001b[39m\u001b[38;5;124m'\u001b[39m, patience\u001b[38;5;241m=\u001b[39m\u001b[38;5;241m5\u001b[39m)\n\u001b[0;32m     11\u001b[0m time_limit_callback \u001b[38;5;241m=\u001b[39m TimeLimitCallback(time_limit\u001b[38;5;241m=\u001b[39m\u001b[38;5;241m7200\u001b[39m, tuner\u001b[38;5;241m=\u001b[39mtuner)  \u001b[38;5;66;03m# 2 hours in seconds\u001b[39;00m\n\u001b[1;32m---> 13\u001b[0m \u001b[43mtuner\u001b[49m\u001b[38;5;241;43m.\u001b[39;49m\u001b[43msearch\u001b[49m\u001b[43m(\u001b[49m\u001b[43mtrain_dataset\u001b[49m\u001b[43m,\u001b[49m\u001b[43m \u001b[49m\n\u001b[0;32m     14\u001b[0m \u001b[43m             \u001b[49m\u001b[43mepochs\u001b[49m\u001b[38;5;241;43m=\u001b[39;49m\u001b[38;5;241;43m30\u001b[39;49m\u001b[43m,\u001b[49m\u001b[43m \u001b[49m\n\u001b[0;32m     15\u001b[0m \u001b[43m             \u001b[49m\u001b[43mvalidation_data\u001b[49m\u001b[38;5;241;43m=\u001b[39;49m\u001b[43mtest_dataset\u001b[49m\u001b[43m,\u001b[49m\u001b[43m \u001b[49m\n\u001b[0;32m     16\u001b[0m \u001b[43m             \u001b[49m\u001b[43mcallbacks\u001b[49m\u001b[38;5;241;43m=\u001b[39;49m\u001b[43m[\u001b[49m\u001b[43mstop_early\u001b[49m\u001b[43m,\u001b[49m\u001b[43m \u001b[49m\u001b[43mtime_limit_callback\u001b[49m\u001b[43m]\u001b[49m\u001b[43m)\u001b[49m\n",
      "File \u001b[1;32mc:\\Users\\Mukul\\anaconda3\\envs\\teachable\\Lib\\site-packages\\keras_tuner\\src\\engine\\base_tuner.py:235\u001b[0m, in \u001b[0;36mBaseTuner.search\u001b[1;34m(self, *fit_args, **fit_kwargs)\u001b[0m\n\u001b[0;32m    233\u001b[0m     \u001b[38;5;28mself\u001b[39m\u001b[38;5;241m.\u001b[39mon_trial_begin(trial)\n\u001b[0;32m    234\u001b[0m     \u001b[38;5;28mself\u001b[39m\u001b[38;5;241m.\u001b[39m_try_run_and_update_trial(trial, \u001b[38;5;241m*\u001b[39mfit_args, \u001b[38;5;241m*\u001b[39m\u001b[38;5;241m*\u001b[39mfit_kwargs)\n\u001b[1;32m--> 235\u001b[0m     \u001b[38;5;28;43mself\u001b[39;49m\u001b[38;5;241;43m.\u001b[39;49m\u001b[43mon_trial_end\u001b[49m\u001b[43m(\u001b[49m\u001b[43mtrial\u001b[49m\u001b[43m)\u001b[49m\n\u001b[0;32m    236\u001b[0m \u001b[38;5;28mself\u001b[39m\u001b[38;5;241m.\u001b[39mon_search_end()\n",
      "File \u001b[1;32mc:\\Users\\Mukul\\anaconda3\\envs\\teachable\\Lib\\site-packages\\keras_tuner\\src\\engine\\base_tuner.py:339\u001b[0m, in \u001b[0;36mBaseTuner.on_trial_end\u001b[1;34m(self, trial)\u001b[0m\n\u001b[0;32m    333\u001b[0m \u001b[38;5;28;01mdef\u001b[39;00m \u001b[38;5;21mon_trial_end\u001b[39m(\u001b[38;5;28mself\u001b[39m, trial):\n\u001b[0;32m    334\u001b[0m \u001b[38;5;250m    \u001b[39m\u001b[38;5;124;03m\"\"\"Called at the end of a trial.\u001b[39;00m\n\u001b[0;32m    335\u001b[0m \n\u001b[0;32m    336\u001b[0m \u001b[38;5;124;03m    Args:\u001b[39;00m\n\u001b[0;32m    337\u001b[0m \u001b[38;5;124;03m        trial: A `Trial` instance.\u001b[39;00m\n\u001b[0;32m    338\u001b[0m \u001b[38;5;124;03m    \"\"\"\u001b[39;00m\n\u001b[1;32m--> 339\u001b[0m     \u001b[38;5;28;43mself\u001b[39;49m\u001b[38;5;241;43m.\u001b[39;49m\u001b[43moracle\u001b[49m\u001b[38;5;241;43m.\u001b[39;49m\u001b[43mend_trial\u001b[49m\u001b[43m(\u001b[49m\u001b[43mtrial\u001b[49m\u001b[43m)\u001b[49m\n\u001b[0;32m    340\u001b[0m     \u001b[38;5;28mself\u001b[39m\u001b[38;5;241m.\u001b[39msave()\n",
      "File \u001b[1;32mc:\\Users\\Mukul\\anaconda3\\envs\\teachable\\Lib\\site-packages\\keras_tuner\\src\\engine\\oracle.py:108\u001b[0m, in \u001b[0;36msynchronized.<locals>.wrapped_func\u001b[1;34m(*args, **kwargs)\u001b[0m\n\u001b[0;32m    106\u001b[0m     LOCKS[oracle]\u001b[38;5;241m.\u001b[39macquire()\n\u001b[0;32m    107\u001b[0m     THREADS[oracle] \u001b[38;5;241m=\u001b[39m thread_name\n\u001b[1;32m--> 108\u001b[0m ret_val \u001b[38;5;241m=\u001b[39m \u001b[43mfunc\u001b[49m\u001b[43m(\u001b[49m\u001b[38;5;241;43m*\u001b[39;49m\u001b[43margs\u001b[49m\u001b[43m,\u001b[49m\u001b[43m \u001b[49m\u001b[38;5;241;43m*\u001b[39;49m\u001b[38;5;241;43m*\u001b[39;49m\u001b[43mkwargs\u001b[49m\u001b[43m)\u001b[49m\n\u001b[0;32m    109\u001b[0m \u001b[38;5;28;01mif\u001b[39;00m need_acquire:\n\u001b[0;32m    110\u001b[0m     THREADS[oracle] \u001b[38;5;241m=\u001b[39m \u001b[38;5;28;01mNone\u001b[39;00m\n",
      "File \u001b[1;32mc:\\Users\\Mukul\\anaconda3\\envs\\teachable\\Lib\\site-packages\\keras_tuner\\src\\engine\\oracle.py:588\u001b[0m, in \u001b[0;36mOracle.end_trial\u001b[1;34m(self, trial)\u001b[0m\n\u001b[0;32m    586\u001b[0m \u001b[38;5;28;01mif\u001b[39;00m \u001b[38;5;129;01mnot\u001b[39;00m \u001b[38;5;28mself\u001b[39m\u001b[38;5;241m.\u001b[39m_retry(trial):\n\u001b[0;32m    587\u001b[0m     \u001b[38;5;28mself\u001b[39m\u001b[38;5;241m.\u001b[39mend_order\u001b[38;5;241m.\u001b[39mappend(trial\u001b[38;5;241m.\u001b[39mtrial_id)\n\u001b[1;32m--> 588\u001b[0m     \u001b[38;5;28;43mself\u001b[39;49m\u001b[38;5;241;43m.\u001b[39;49m\u001b[43m_check_consecutive_failures\u001b[49m\u001b[43m(\u001b[49m\u001b[43m)\u001b[49m\n\u001b[0;32m    590\u001b[0m \u001b[38;5;28mself\u001b[39m\u001b[38;5;241m.\u001b[39m_save_trial(trial)\n\u001b[0;32m    591\u001b[0m \u001b[38;5;28mself\u001b[39m\u001b[38;5;241m.\u001b[39msave()\n",
      "File \u001b[1;32mc:\\Users\\Mukul\\anaconda3\\envs\\teachable\\Lib\\site-packages\\keras_tuner\\src\\engine\\oracle.py:545\u001b[0m, in \u001b[0;36mOracle._check_consecutive_failures\u001b[1;34m(self)\u001b[0m\n\u001b[0;32m    543\u001b[0m     consecutive_failures \u001b[38;5;241m=\u001b[39m \u001b[38;5;241m0\u001b[39m\n\u001b[0;32m    544\u001b[0m \u001b[38;5;28;01mif\u001b[39;00m consecutive_failures \u001b[38;5;241m==\u001b[39m \u001b[38;5;28mself\u001b[39m\u001b[38;5;241m.\u001b[39mmax_consecutive_failed_trials:\n\u001b[1;32m--> 545\u001b[0m     \u001b[38;5;28;01mraise\u001b[39;00m \u001b[38;5;167;01mRuntimeError\u001b[39;00m(\n\u001b[0;32m    546\u001b[0m         \u001b[38;5;124m\"\u001b[39m\u001b[38;5;124mNumber of consecutive failures exceeded the limit \u001b[39m\u001b[38;5;124m\"\u001b[39m\n\u001b[0;32m    547\u001b[0m         \u001b[38;5;124mf\u001b[39m\u001b[38;5;124m\"\u001b[39m\u001b[38;5;124mof \u001b[39m\u001b[38;5;132;01m{\u001b[39;00m\u001b[38;5;28mself\u001b[39m\u001b[38;5;241m.\u001b[39mmax_consecutive_failed_trials\u001b[38;5;132;01m}\u001b[39;00m\u001b[38;5;124m.\u001b[39m\u001b[38;5;130;01m\\n\u001b[39;00m\u001b[38;5;124m\"\u001b[39m\n\u001b[0;32m    548\u001b[0m         \u001b[38;5;241m+\u001b[39m (trial\u001b[38;5;241m.\u001b[39mmessage \u001b[38;5;129;01mor\u001b[39;00m \u001b[38;5;124m\"\u001b[39m\u001b[38;5;124m\"\u001b[39m)\n\u001b[0;32m    549\u001b[0m     )\n",
      "\u001b[1;31mRuntimeError\u001b[0m: Number of consecutive failures exceeded the limit of 3.\nTraceback (most recent call last):\n  File \"c:\\Users\\Mukul\\anaconda3\\envs\\teachable\\Lib\\site-packages\\keras_tuner\\src\\engine\\base_tuner.py\", line 274, in _try_run_and_update_trial\n    self._run_and_update_trial(trial, *fit_args, **fit_kwargs)\n  File \"c:\\Users\\Mukul\\anaconda3\\envs\\teachable\\Lib\\site-packages\\keras_tuner\\src\\engine\\base_tuner.py\", line 239, in _run_and_update_trial\n    results = self.run_trial(trial, *fit_args, **fit_kwargs)\n              ^^^^^^^^^^^^^^^^^^^^^^^^^^^^^^^^^^^^^^^^^^^^^^\n  File \"c:\\Users\\Mukul\\anaconda3\\envs\\teachable\\Lib\\site-packages\\keras_tuner\\src\\tuners\\hyperband.py\", line 427, in run_trial\n    return super().run_trial(trial, *fit_args, **fit_kwargs)\n           ^^^^^^^^^^^^^^^^^^^^^^^^^^^^^^^^^^^^^^^^^^^^^^^^^\n  File \"c:\\Users\\Mukul\\anaconda3\\envs\\teachable\\Lib\\site-packages\\keras_tuner\\src\\engine\\tuner.py\", line 314, in run_trial\n    obj_value = self._build_and_fit_model(trial, *args, **copied_kwargs)\n                ^^^^^^^^^^^^^^^^^^^^^^^^^^^^^^^^^^^^^^^^^^^^^^^^^^^^^^^^\n  File \"c:\\Users\\Mukul\\anaconda3\\envs\\teachable\\Lib\\site-packages\\keras_tuner\\src\\engine\\tuner.py\", line 233, in _build_and_fit_model\n    results = self.hypermodel.fit(hp, model, *args, **kwargs)\n              ^^^^^^^^^^^^^^^^^^^^^^^^^^^^^^^^^^^^^^^^^^^^^^^\n  File \"c:\\Users\\Mukul\\anaconda3\\envs\\teachable\\Lib\\site-packages\\keras_tuner\\src\\engine\\hypermodel.py\", line 149, in fit\n    return model.fit(*args, **kwargs)\n           ^^^^^^^^^^^^^^^^^^^^^^^^^^\n  File \"c:\\Users\\Mukul\\anaconda3\\envs\\teachable\\Lib\\site-packages\\keras\\utils\\traceback_utils.py\", line 70, in error_handler\n    raise e.with_traceback(filtered_tb) from None\n  File \"C:\\Users\\Mukul\\AppData\\Local\\Temp\\ipykernel_11372\\3121170498.py\", line 14, in on_epoch_begin\n    self.tuner.oracle.end_study(status=\"TIME_LIMIT_REACHED\")\n    ^^^^^^^^^^^^^^^^^^^^^^^^^^^\nAttributeError: 'HyperbandOracle' object has no attribute 'end_study'\n"
     ]
    }
   ],
   "source": [
    "tuner = kt.Hyperband(\n",
    "    build_model,\n",
    "    objective='val_mae',\n",
    "    max_epochs=30,\n",
    "    factor=3,\n",
    "    directory='keras_tuner',\n",
    "    project_name='steering_angle_prediction'\n",
    ")\n",
    "\n",
    "stop_early = tf.keras.callbacks.EarlyStopping(monitor='val_loss', patience=5)\n",
    "time_limit_callback = TimeLimitCallback(time_limit=7200, tuner=tuner)  # 2 hours in seconds\n",
    "\n",
    "tuner.search(train_dataset, \n",
    "             epochs=30, \n",
    "             validation_data=test_dataset, \n",
    "             callbacks=[stop_early, time_limit_callback])"
   ]
  },
  {
   "cell_type": "code",
   "execution_count": 17,
   "metadata": {},
   "outputs": [],
   "source": [
    "best_hps = tuner.get_best_hyperparameters(num_trials=1)[0]\n",
    "model = tuner.hypermodel.build(best_hps)"
   ]
  },
  {
   "cell_type": "markdown",
   "metadata": {},
   "source": [
    "Training the model"
   ]
  },
  {
   "cell_type": "code",
   "execution_count": 19,
   "metadata": {},
   "outputs": [
    {
     "name": "stdout",
     "output_type": "stream",
     "text": [
      "Epoch 1/30\n",
      "1136/1136 [==============================] - 752s 662ms/step - loss: 12.6592 - mae: 13.1393 - val_loss: 10.2958 - val_mae: 10.7667\n",
      "Epoch 2/30\n",
      "1136/1136 [==============================] - 776s 683ms/step - loss: 9.8354 - mae: 10.3082 - val_loss: 9.5638 - val_mae: 10.0363\n",
      "Epoch 3/30\n",
      "1136/1136 [==============================] - 753s 663ms/step - loss: 8.6466 - mae: 9.1153 - val_loss: 8.0199 - val_mae: 8.4844\n",
      "Epoch 4/30\n",
      "1136/1136 [==============================] - 757s 666ms/step - loss: 7.8707 - mae: 8.3364 - val_loss: 7.3782 - val_mae: 7.8384\n",
      "Epoch 5/30\n",
      "1136/1136 [==============================] - 743s 654ms/step - loss: 7.2831 - mae: 7.7458 - val_loss: 6.1983 - val_mae: 6.6477\n",
      "Epoch 6/30\n",
      "1136/1136 [==============================] - 751s 661ms/step - loss: 6.7079 - mae: 7.1677 - val_loss: 5.8047 - val_mae: 6.2564\n",
      "Epoch 7/30\n",
      "1136/1136 [==============================] - 760s 669ms/step - loss: 6.3194 - mae: 6.7783 - val_loss: 5.2885 - val_mae: 5.7385\n",
      "Epoch 8/30\n",
      "1136/1136 [==============================] - 742s 653ms/step - loss: 5.9098 - mae: 6.3663 - val_loss: 5.2031 - val_mae: 5.6516\n",
      "Epoch 9/30\n",
      "1136/1136 [==============================] - 745s 656ms/step - loss: 5.4883 - mae: 5.9447 - val_loss: 4.9803 - val_mae: 5.4330\n",
      "Epoch 10/30\n",
      "1136/1136 [==============================] - 749s 659ms/step - loss: 5.2074 - mae: 5.6612 - val_loss: 4.3858 - val_mae: 4.8296\n",
      "Epoch 11/30\n",
      "1136/1136 [==============================] - 821s 723ms/step - loss: 4.9596 - mae: 5.4129 - val_loss: 4.0539 - val_mae: 4.4916\n",
      "Epoch 12/30\n",
      "1136/1136 [==============================] - 801s 705ms/step - loss: 4.6950 - mae: 5.1468 - val_loss: 4.2881 - val_mae: 4.7329\n",
      "Epoch 13/30\n",
      "1136/1136 [==============================] - 813s 715ms/step - loss: 4.5751 - mae: 5.0254 - val_loss: 4.6235 - val_mae: 5.0668\n",
      "Epoch 14/30\n",
      "1136/1136 [==============================] - 752s 662ms/step - loss: 4.4419 - mae: 4.8922 - val_loss: 3.8415 - val_mae: 4.2828\n",
      "Epoch 15/30\n",
      "1136/1136 [==============================] - 750s 660ms/step - loss: 4.3125 - mae: 4.7604 - val_loss: 3.5712 - val_mae: 4.0122\n",
      "Epoch 16/30\n",
      "1136/1136 [==============================] - 744s 655ms/step - loss: 4.1332 - mae: 4.5799 - val_loss: 3.3742 - val_mae: 3.8126\n",
      "Epoch 17/30\n",
      "1136/1136 [==============================] - 752s 662ms/step - loss: 4.0748 - mae: 4.5222 - val_loss: 3.8690 - val_mae: 4.3068\n",
      "Epoch 18/30\n",
      "1136/1136 [==============================] - 772s 680ms/step - loss: 3.8907 - mae: 4.3355 - val_loss: 3.8958 - val_mae: 4.3384\n",
      "Epoch 19/30\n",
      "1136/1136 [==============================] - 748s 658ms/step - loss: 3.8213 - mae: 4.2660 - val_loss: 4.0359 - val_mae: 4.4813\n",
      "Epoch 20/30\n",
      "1136/1136 [==============================] - 755s 664ms/step - loss: 3.8540 - mae: 4.2995 - val_loss: 4.3002 - val_mae: 4.7424\n",
      "Epoch 21/30\n",
      "1136/1136 [==============================] - 765s 673ms/step - loss: 3.7202 - mae: 4.1635 - val_loss: 3.4100 - val_mae: 3.8413\n"
     ]
    }
   ],
   "source": [
    "history = model.fit(train_dataset, \n",
    "                    epochs=30, \n",
    "                    validation_data=test_dataset, \n",
    "                    callbacks=[stop_early])"
   ]
  },
  {
   "cell_type": "code",
   "execution_count": 20,
   "metadata": {},
   "outputs": [
    {
     "name": "stdout",
     "output_type": "stream",
     "text": [
      "284/284 [==============================] - 41s 145ms/step - loss: 3.4100 - mae: 3.8413\n",
      "Test Loss: 3.409977674484253\n",
      "Test MAE: 3.8413474559783936\n"
     ]
    }
   ],
   "source": [
    "test_loss, test_mae = model.evaluate(test_dataset)\n",
    "print(f\"Test Loss: {test_loss}\")\n",
    "print(f\"Test MAE: {test_mae}\")\n",
    "\n",
    "model.save(\"steering_model.keras\")"
   ]
  },
  {
   "cell_type": "markdown",
   "metadata": {},
   "source": [
    "Plots for Model loss\n"
   ]
  },
  {
   "cell_type": "code",
   "execution_count": 21,
   "metadata": {},
   "outputs": [
    {
     "data": {
      "text/plain": [
       "<matplotlib.legend.Legend at 0x2065b749fd0>"
      ]
     },
     "execution_count": 21,
     "metadata": {},
     "output_type": "execute_result"
    },
    {
     "data": {
      "image/png": "[encoded data removed]",
      "text/plain": [
       "<Figure size 1200x400 with 1 Axes>"
      ]
     },
     "metadata": {},
     "output_type": "display_data"
    }
   ],
   "source": [
    "plt.figure(figsize=(12, 4))\n",
    "plt.subplot(1, 2, 1)\n",
    "plt.plot(history.history['loss'], label='Training Loss')\n",
    "plt.plot(history.history['val_loss'], label='Validation Loss')\n",
    "plt.title('Model Loss')\n",
    "plt.ylabel('Loss')\n",
    "plt.xlabel('Epoch')\n",
    "plt.legend()"
   ]
  },
  {
   "cell_type": "markdown",
   "metadata": {},
   "source": [
    "Plot for model Mean Absolute Error "
   ]
  },
  {
   "cell_type": "code",
   "execution_count": 22,
   "metadata": {},
   "outputs": [
    {
     "data": {
      "image/png": "[encoded data removed]",
      "text/plain": [
       "<Figure size 640x480 with 1 Axes>"
      ]
     },
     "metadata": {},
     "output_type": "display_data"
    }
   ],
   "source": [
    "plt.subplot(1, 2, 2)\n",
    "plt.plot(history.history['mae'], label='Training MAE')\n",
    "plt.plot(history.history['val_mae'], label='Validation MAE')\n",
    "plt.title('Model MAE')\n",
    "plt.ylabel('MAE')\n",
    "plt.xlabel('Epoch')\n",
    "plt.legend()\n",
    "plt.show()\n"
   ]
  },
  {
   "cell_type": "markdown",
   "metadata": {},
   "source": [
    "Prediction using image path and model"
   ]
  },
  {
   "cell_type": "code",
   "execution_count": 7,
   "metadata": {},
   "outputs": [],
   "source": [
    "def predict_steering_angle(image_path):\n",
    "    img = preprocess_image(image_path)\n",
    "    img = np.expand_dims(img, axis=0)\n",
    "    prediction = model.predict(img)[0][0]\n",
    "    return prediction"
   ]
  }
 ],
 "metadata": {
  "kernelspec": {
   "display_name": "teachable",
   "language": "python",
   "name": "python3"
  },
  "language_info": {
   "codemirror_mode": {
    "name": "ipython",
    "version": 3
   },
   "file_extension": ".py",
   "mimetype": "text/x-python",
   "name": "python",
   "nbconvert_exporter": "python",
   "pygments_lexer": "ipython3",
   "version": "3.11.10"
  }
 },
 "nbformat": 4,
 "nbformat_minor": 2
}
