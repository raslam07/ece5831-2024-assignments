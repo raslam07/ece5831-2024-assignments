{
 "cells": [
  {
   "cell_type": "markdown",
   "metadata": {},
   "source": [
    "Creating the Logic Gate Class"
   ]
  },
  {
   "cell_type": "code",
   "execution_count": 25,
   "metadata": {},
   "outputs": [],
   "source": [
    "import numpy as np\n",
    "\n",
    "class LogicGate():\n",
    "    def __init__(self):\n",
    "        pass\n",
    "\n",
    "    def and_gate(self, x1, x2):\n",
    "        b = -0.7\n",
    "        w = np.array([0.5, 0.5, 1])\n",
    "        x = np.array([x1, x2, b])\n",
    "\n",
    "        y = np.sum(w * x)\n",
    "\n",
    "        if y > 0:\n",
    "            return 1\n",
    "        else:\n",
    "            return 0\n",
    "\n",
    "    def nand_gate(self, x1, x2):\n",
    "        b = -0.7\n",
    "        w = np.array([0.5, 0.5, 1])\n",
    "        x = np.array([x1, x2, b])\n",
    "\n",
    "        y = np.sum(w * x)\n",
    "\n",
    "        if y > 0:\n",
    "            return 0\n",
    "        else:\n",
    "            return 1\n",
    "        \n",
    "    def or_gate(self, x1, x2):\n",
    "        b = -0.9\n",
    "        w = np.array([1, 1, 1])\n",
    "        x = np.array([x1, x2, b])\n",
    "\n",
    "        y = np.sum(w * x)\n",
    "\n",
    "        if y > 0:\n",
    "            return 1\n",
    "        else:\n",
    "            return 0\n",
    "        \n",
    "    def nor_gate(self, x1, x2):\n",
    "        b = -0.9\n",
    "        w = np.array([1, 1, 1])\n",
    "        x = np.array([x1, x2, b])\n",
    "\n",
    "        y = np.sum(w * x)\n",
    "\n",
    "        if y > 0:\n",
    "            return 0\n",
    "        else:\n",
    "            return 1\n",
    "        \n",
    "    def xor_gate(self, x1, x2):\n",
    "        y1 = self.or_gate(x1, x2)\n",
    "        y2 = self.nand_gate(x1, x2)\n",
    "        return self.and_gate(y1, y2)"
   ]
  },
  {
   "cell_type": "markdown",
   "metadata": {},
   "source": [
    "Test Cases"
   ]
  },
  {
   "cell_type": "code",
   "execution_count": 26,
   "metadata": {},
   "outputs": [],
   "source": [
    "tests = [[0,0], [0,1], [1,0], [1, 1]]"
   ]
  },
  {
   "cell_type": "markdown",
   "metadata": {},
   "source": [
    "Test for the 'AND' Gate"
   ]
  },
  {
   "cell_type": "code",
   "execution_count": 29,
   "metadata": {},
   "outputs": [
    {
     "name": "stdout",
     "output_type": "stream",
     "text": [
      "0 0 --> 0\n",
      "0 1 --> 0\n",
      "1 0 --> 0\n",
      "1 1 --> 1\n"
     ]
    }
   ],
   "source": [
    "logic_gate = LogicGate()\n",
    "\n",
    "for test in tests:\n",
    "    y = logic_gate.and_gate(test[0], test[1])\n",
    "    print(f'{test[0]} {test[1]} --> {y}')"
   ]
  },
  {
   "cell_type": "markdown",
   "metadata": {},
   "source": [
    "Test for the 'NAND' Gate"
   ]
  },
  {
   "cell_type": "code",
   "execution_count": 30,
   "metadata": {},
   "outputs": [
    {
     "name": "stdout",
     "output_type": "stream",
     "text": [
      "0 0 --> 1\n",
      "0 1 --> 1\n",
      "1 0 --> 1\n",
      "1 1 --> 0\n"
     ]
    }
   ],
   "source": [
    "logic_gate = LogicGate()\n",
    "\n",
    "for test in tests:\n",
    "    y = logic_gate.nand_gate(test[0], test[1])\n",
    "    print(f'{test[0]} {test[1]} --> {y}')"
   ]
  },
  {
   "cell_type": "markdown",
   "metadata": {},
   "source": [
    "Test for the 'OR' Gate"
   ]
  },
  {
   "cell_type": "code",
   "execution_count": 31,
   "metadata": {},
   "outputs": [
    {
     "name": "stdout",
     "output_type": "stream",
     "text": [
      "0 0 --> 0\n",
      "0 1 --> 1\n",
      "1 0 --> 1\n",
      "1 1 --> 1\n"
     ]
    }
   ],
   "source": [
    "logic_gate = LogicGate()\n",
    "\n",
    "for test in tests:\n",
    "    y = logic_gate.or_gate(test[0], test[1])\n",
    "    print(f'{test[0]} {test[1]} --> {y}')"
   ]
  },
  {
   "cell_type": "markdown",
   "metadata": {},
   "source": [
    "Test for the 'NOR' Gate"
   ]
  },
  {
   "cell_type": "code",
   "execution_count": 32,
   "metadata": {},
   "outputs": [
    {
     "name": "stdout",
     "output_type": "stream",
     "text": [
      "0 0 --> 1\n",
      "0 1 --> 0\n",
      "1 0 --> 0\n",
      "1 1 --> 0\n"
     ]
    }
   ],
   "source": [
    "logic_gate = LogicGate()\n",
    "\n",
    "for test in tests:\n",
    "    y = logic_gate.nor_gate(test[0], test[1])\n",
    "    print(f'{test[0]} {test[1]} --> {y}')"
   ]
  },
  {
   "cell_type": "markdown",
   "metadata": {},
   "source": [
    "Test for the 'XOR' Gate"
   ]
  },
  {
   "cell_type": "code",
   "execution_count": 33,
   "metadata": {},
   "outputs": [
    {
     "name": "stdout",
     "output_type": "stream",
     "text": [
      "0 0 --> 0\n",
      "0 1 --> 1\n",
      "1 0 --> 1\n",
      "1 1 --> 0\n"
     ]
    }
   ],
   "source": [
    "logic_gate = LogicGate()\n",
    "\n",
    "for test in tests:\n",
    "    y = logic_gate.xor_gate(test[0], test[1])\n",
    "    print(f'{test[0]} {test[1]} --> {y}')"
   ]
  }
 ],
 "metadata": {
  "kernelspec": {
   "display_name": "ece5831-2023",
   "language": "python",
   "name": "python3"
  },
  "language_info": {
   "codemirror_mode": {
    "name": "ipython",
    "version": 3
   },
   "file_extension": ".py",
   "mimetype": "text/x-python",
   "name": "python",
   "nbconvert_exporter": "python",
   "pygments_lexer": "ipython3",
   "version": "3.9.19"
  }
 },
 "nbformat": 4,
 "nbformat_minor": 2
}
